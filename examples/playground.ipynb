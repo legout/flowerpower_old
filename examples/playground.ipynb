{
 "cells": [
  {
   "cell_type": "code",
   "execution_count": 1,
   "metadata": {},
   "outputs": [],
   "source": [
    "from flowerpower.transform import Transformer\n",
    "\n",
    "\n",
    "class Test(Transformer):\n",
    "\n",
    "    @staticmethod\n",
    "    def _1_func1(input:dict, a:int, **kargs):\n",
    "        output = {k:v+a for k,v in input.items()}\n",
    "        return output\n",
    "    \n",
    "    @staticmethod \n",
    "    def _2_func2(input:dict, b:int, **kwargs):\n",
    "        output = {k:v+b for k,v in input.items()}\n",
    "        return output\n",
    "\n"
   ]
  },
  {
   "cell_type": "code",
   "execution_count": 2,
   "metadata": {},
   "outputs": [],
   "source": [
    "t = Test()"
   ]
  },
  {
   "cell_type": "code",
   "execution_count": 3,
   "metadata": {},
   "outputs": [
    {
     "data": {
      "text/plain": [
       "{'a': 4, 'b': 5}"
      ]
     },
     "execution_count": 3,
     "metadata": {},
     "output_type": "execute_result"
    }
   ],
   "source": [
    "t.transform({'a':1,'b':2})"
   ]
  },
  {
   "cell_type": "code",
   "execution_count": 49,
   "metadata": {},
   "outputs": [
    {
     "ename": "TypeError",
     "evalue": "asdict() should be called on dataclass instances",
     "output_type": "error",
     "traceback": [
      "\u001b[0;31m---------------------------------------------------------------------------\u001b[0m",
      "\u001b[0;31mTypeError\u001b[0m                                 Traceback (most recent call last)",
      "Cell \u001b[0;32mIn[49], line 67\u001b[0m\n\u001b[1;32m     63\u001b[0m                 \u001b[38;5;28;01mreturn\u001b[39;00m dict_to_dataclass(json\u001b[38;5;241m.\u001b[39mload(f))\n\u001b[1;32m     65\u001b[0m         \u001b[38;5;28;01mraise\u001b[39;00m \u001b[38;5;167;01mException\u001b[39;00m(\u001b[38;5;124mf\u001b[39m\u001b[38;5;124m\"\u001b[39m\u001b[38;5;124mCould not find params at \u001b[39m\u001b[38;5;132;01m{\u001b[39;00mparams_path\u001b[38;5;132;01m}\u001b[39;00m\u001b[38;5;124m\"\u001b[39m)\n\u001b[0;32m---> 67\u001b[0m pp\u001b[38;5;241m=\u001b[39m\u001b[43mParams\u001b[49m\u001b[43m(\u001b[49m\u001b[38;5;124;43m\"\u001b[39;49m\u001b[38;5;124;43mconf\u001b[39;49m\u001b[38;5;124;43m\"\u001b[39;49m\u001b[43m)\u001b[49m\n",
      "Cell \u001b[0;32mIn[49], line 21\u001b[0m, in \u001b[0;36mParams.__init__\u001b[0;34m(self, cfg_path)\u001b[0m\n\u001b[1;32m     19\u001b[0m \u001b[38;5;28;01mdef\u001b[39;00m \u001b[38;5;21m__init__\u001b[39m(\u001b[38;5;28mself\u001b[39m, cfg_path: \u001b[38;5;28mstr\u001b[39m\u001b[38;5;241m=\u001b[39m\u001b[38;5;124m\"\u001b[39m\u001b[38;5;124mconf\u001b[39m\u001b[38;5;124m\"\u001b[39m) \u001b[38;5;241m-\u001b[39m\u001b[38;5;241m>\u001b[39m Any:\n\u001b[1;32m     20\u001b[0m     \u001b[38;5;28mself\u001b[39m\u001b[38;5;241m.\u001b[39m_cfg_path \u001b[38;5;241m=\u001b[39m cfg_path\n\u001b[0;32m---> 21\u001b[0m     \u001b[38;5;28mself\u001b[39m\u001b[38;5;241m.\u001b[39m_params \u001b[38;5;241m=\u001b[39m \u001b[38;5;28;43mself\u001b[39;49m\u001b[38;5;241;43m.\u001b[39;49m\u001b[43m_load_params\u001b[49m\u001b[43m(\u001b[49m\u001b[43m)\u001b[49m\n",
      "Cell \u001b[0;32mIn[49], line 55\u001b[0m, in \u001b[0;36mParams._load_params\u001b[0;34m(self)\u001b[0m\n\u001b[1;32m     53\u001b[0m \u001b[38;5;28;01melif\u001b[39;00m os\u001b[38;5;241m.\u001b[39mpath\u001b[38;5;241m.\u001b[39mexists(params_path \u001b[38;5;241m+\u001b[39m \u001b[38;5;124m\"\u001b[39m\u001b[38;5;124m.yaml\u001b[39m\u001b[38;5;124m\"\u001b[39m):\n\u001b[1;32m     54\u001b[0m     \u001b[38;5;28;01mwith\u001b[39;00m \u001b[38;5;28mopen\u001b[39m(params_path \u001b[38;5;241m+\u001b[39m \u001b[38;5;124m\"\u001b[39m\u001b[38;5;124m.yaml\u001b[39m\u001b[38;5;124m\"\u001b[39m) \u001b[38;5;28;01mas\u001b[39;00m f:\n\u001b[0;32m---> 55\u001b[0m         \u001b[38;5;28;01mreturn\u001b[39;00m \u001b[43mdict_to_dataclass\u001b[49m\u001b[43m(\u001b[49m\u001b[43myaml\u001b[49m\u001b[38;5;241;43m.\u001b[39;49m\u001b[43msafe_load\u001b[49m\u001b[43m(\u001b[49m\u001b[43mf\u001b[49m\u001b[43m)\u001b[49m\u001b[43m)\u001b[49m\n\u001b[1;32m     57\u001b[0m \u001b[38;5;28;01melif\u001b[39;00m os\u001b[38;5;241m.\u001b[39mpath\u001b[38;5;241m.\u001b[39mexists(params_path \u001b[38;5;241m+\u001b[39m \u001b[38;5;124m\"\u001b[39m\u001b[38;5;124m.yml\u001b[39m\u001b[38;5;124m\"\u001b[39m):\n\u001b[1;32m     58\u001b[0m     \u001b[38;5;28;01mwith\u001b[39;00m \u001b[38;5;28mopen\u001b[39m(params_path \u001b[38;5;241m+\u001b[39m \u001b[38;5;124m\"\u001b[39m\u001b[38;5;124m.yml\u001b[39m\u001b[38;5;124m\"\u001b[39m) \u001b[38;5;28;01mas\u001b[39;00m f:\n",
      "Cell \u001b[0;32mIn[49], line 12\u001b[0m, in \u001b[0;36mdict_to_dataclass\u001b[0;34m(d)\u001b[0m\n\u001b[1;32m     10\u001b[0m \u001b[38;5;28;01mdef\u001b[39;00m \u001b[38;5;21mdict_to_dataclass\u001b[39m(d) \u001b[38;5;241m-\u001b[39m\u001b[38;5;241m>\u001b[39m Any:\n\u001b[1;32m     11\u001b[0m     fields \u001b[38;5;241m=\u001b[39m {\n\u001b[0;32m---> 12\u001b[0m         k: (\u001b[43mdict_to_dataclass\u001b[49m\u001b[43m(\u001b[49m\u001b[43mv\u001b[49m\u001b[43m)\u001b[49m \u001b[38;5;28;01mif\u001b[39;00m \u001b[38;5;28misinstance\u001b[39m(v, \u001b[38;5;28mdict\u001b[39m) \u001b[38;5;28;01melse\u001b[39;00m v) \u001b[38;5;28;01mfor\u001b[39;00m k, v \u001b[38;5;129;01min\u001b[39;00m d\u001b[38;5;241m.\u001b[39mitems()\n\u001b[1;32m     13\u001b[0m     }\n\u001b[1;32m     14\u001b[0m     DataClass \u001b[38;5;241m=\u001b[39m make_dataclass(\u001b[38;5;124m\"\u001b[39m\u001b[38;5;124mDataClass\u001b[39m\u001b[38;5;124m\"\u001b[39m, fields\u001b[38;5;241m=\u001b[39mfields)\n\u001b[1;32m     15\u001b[0m     DataClass\u001b[38;5;241m.\u001b[39masdict \u001b[38;5;241m=\u001b[39m asdict(DataClass)\n",
      "Cell \u001b[0;32mIn[49], line 12\u001b[0m, in \u001b[0;36mdict_to_dataclass\u001b[0;34m(d)\u001b[0m\n\u001b[1;32m     10\u001b[0m \u001b[38;5;28;01mdef\u001b[39;00m \u001b[38;5;21mdict_to_dataclass\u001b[39m(d) \u001b[38;5;241m-\u001b[39m\u001b[38;5;241m>\u001b[39m Any:\n\u001b[1;32m     11\u001b[0m     fields \u001b[38;5;241m=\u001b[39m {\n\u001b[0;32m---> 12\u001b[0m         k: (\u001b[43mdict_to_dataclass\u001b[49m\u001b[43m(\u001b[49m\u001b[43mv\u001b[49m\u001b[43m)\u001b[49m \u001b[38;5;28;01mif\u001b[39;00m \u001b[38;5;28misinstance\u001b[39m(v, \u001b[38;5;28mdict\u001b[39m) \u001b[38;5;28;01melse\u001b[39;00m v) \u001b[38;5;28;01mfor\u001b[39;00m k, v \u001b[38;5;129;01min\u001b[39;00m d\u001b[38;5;241m.\u001b[39mitems()\n\u001b[1;32m     13\u001b[0m     }\n\u001b[1;32m     14\u001b[0m     DataClass \u001b[38;5;241m=\u001b[39m make_dataclass(\u001b[38;5;124m\"\u001b[39m\u001b[38;5;124mDataClass\u001b[39m\u001b[38;5;124m\"\u001b[39m, fields\u001b[38;5;241m=\u001b[39mfields)\n\u001b[1;32m     15\u001b[0m     DataClass\u001b[38;5;241m.\u001b[39masdict \u001b[38;5;241m=\u001b[39m asdict(DataClass)\n",
      "Cell \u001b[0;32mIn[49], line 15\u001b[0m, in \u001b[0;36mdict_to_dataclass\u001b[0;34m(d)\u001b[0m\n\u001b[1;32m     11\u001b[0m fields \u001b[38;5;241m=\u001b[39m {\n\u001b[1;32m     12\u001b[0m     k: (dict_to_dataclass(v) \u001b[38;5;28;01mif\u001b[39;00m \u001b[38;5;28misinstance\u001b[39m(v, \u001b[38;5;28mdict\u001b[39m) \u001b[38;5;28;01melse\u001b[39;00m v) \u001b[38;5;28;01mfor\u001b[39;00m k, v \u001b[38;5;129;01min\u001b[39;00m d\u001b[38;5;241m.\u001b[39mitems()\n\u001b[1;32m     13\u001b[0m }\n\u001b[1;32m     14\u001b[0m DataClass \u001b[38;5;241m=\u001b[39m make_dataclass(\u001b[38;5;124m\"\u001b[39m\u001b[38;5;124mDataClass\u001b[39m\u001b[38;5;124m\"\u001b[39m, fields\u001b[38;5;241m=\u001b[39mfields)\n\u001b[0;32m---> 15\u001b[0m DataClass\u001b[38;5;241m.\u001b[39masdict \u001b[38;5;241m=\u001b[39m \u001b[43masdict\u001b[49m\u001b[43m(\u001b[49m\u001b[43mDataClass\u001b[49m\u001b[43m)\u001b[49m\n\u001b[1;32m     16\u001b[0m \u001b[38;5;28;01mreturn\u001b[39;00m DataClass(\u001b[38;5;241m*\u001b[39m\u001b[38;5;241m*\u001b[39mfields)\n",
      "File \u001b[0;32m~/.rye/py/cpython@3.12.2/lib/python3.12/dataclasses.py:1319\u001b[0m, in \u001b[0;36masdict\u001b[0;34m(obj, dict_factory)\u001b[0m\n\u001b[1;32m   1300\u001b[0m \u001b[38;5;250m\u001b[39m\u001b[38;5;124;03m\"\"\"Return the fields of a dataclass instance as a new dictionary mapping\u001b[39;00m\n\u001b[1;32m   1301\u001b[0m \u001b[38;5;124;03mfield names to field values.\u001b[39;00m\n\u001b[1;32m   1302\u001b[0m \n\u001b[0;32m   (...)\u001b[0m\n\u001b[1;32m   1316\u001b[0m \u001b[38;5;124;03mtuples, lists, and dicts. Other objects are copied with 'copy.deepcopy()'.\u001b[39;00m\n\u001b[1;32m   1317\u001b[0m \u001b[38;5;124;03m\"\"\"\u001b[39;00m\n\u001b[1;32m   1318\u001b[0m \u001b[38;5;28;01mif\u001b[39;00m \u001b[38;5;129;01mnot\u001b[39;00m _is_dataclass_instance(obj):\n\u001b[0;32m-> 1319\u001b[0m     \u001b[38;5;28;01mraise\u001b[39;00m \u001b[38;5;167;01mTypeError\u001b[39;00m(\u001b[38;5;124m\"\u001b[39m\u001b[38;5;124masdict() should be called on dataclass instances\u001b[39m\u001b[38;5;124m\"\u001b[39m)\n\u001b[1;32m   1320\u001b[0m \u001b[38;5;28;01mreturn\u001b[39;00m _asdict_inner(obj, dict_factory)\n",
      "\u001b[0;31mTypeError\u001b[0m: asdict() should be called on dataclass instances"
     ]
    }
   ],
   "source": [
    "from dataclasses import dataclass, make_dataclass, asdict\n",
    "from tkinter import N\n",
    "from typing import Any\n",
    "import toml\n",
    "import yaml\n",
    "import json\n",
    "import os\n",
    "\n",
    "\n",
    "def dict_to_dataclass(d) -> Any:\n",
    "    fields = {\n",
    "        k: (dict_to_dataclass(v) if isinstance(v, dict) else v) for k, v in d.items()\n",
    "    }\n",
    "    DataClass = make_dataclass(\"DataClass\", fields=fields)\n",
    "    return DataClass(**fields)\n",
    "\n",
    "class Params:\n",
    "    def __init__(self, cfg_path: str=\"conf\") -> Any:\n",
    "        self._cfg_path = cfg_path\n",
    "        self._params = self._load_params()\n",
    "\n",
    "    def __getattr__(self, name:str|None)->Any:\n",
    "        return self._params if name is None else self._params.__getattribute__(name)\n",
    "    \n",
    "    def __get__(self, name:str|None)->Any:\n",
    "        return self._params if name is None else self._params.__getattribute__(name)\n",
    "    \n",
    "    def get(self, name:str|None, asdict:bool=False)->Any|dict:\n",
    "        if asdict:\n",
    "            return asdict(self._params) if name is None else asdict(getattr(self,name))\n",
    "        return self._params if name is None else self._params.__getattribute__(name)\n",
    "    \n",
    "    def __getitem__(self, name:str|None)->Any:\n",
    "        return self._params if name is None else self._params.__getattribute__(name)\n",
    "    \n",
    "    \n",
    "    def asdict(self, name:str|None=None)->dict:\n",
    "       \n",
    "        return asdict(self._params) if name is None else asdict(getattr(self,name))\n",
    "\n",
    "    def attrs(self,name:str|None=None)->tuple:\n",
    "        return tuple(self._params.__dict__.keys()) if name is None else tuple(getattr(self,name).__dict__.keys())\n",
    "\n",
    "\n",
    "    def _load_params(self) -> Any:\n",
    "        params_path = os.path.join(self._cfg_path, \"params\")\n",
    "\n",
    "        if os.path.exists(params_path + \".toml\"):\n",
    "            with open(params_path + \".toml\") as f:\n",
    "                return dict_to_dataclass(toml.load(f))\n",
    "\n",
    "        elif os.path.exists(params_path + \".yaml\"):\n",
    "            with open(params_path + \".yaml\") as f:\n",
    "                return dict_to_dataclass(yaml.safe_load(f))\n",
    "\n",
    "        elif os.path.exists(params_path + \".yml\"):\n",
    "            with open(params_path + \".yml\") as f:\n",
    "                return dict_to_dataclass(yaml.safe_load(f))\n",
    "\n",
    "        elif os.path.exists(params_path + \".json\"):\n",
    "            with open(params_path + \".json\") as f:\n",
    "                return dict_to_dataclass(json.load(f))\n",
    "\n",
    "        raise Exception(f\"Could not find params at {params_path}\")\n",
    "\n",
    "pp=Params(\"conf\")"
   ]
  },
  {
   "cell_type": "code",
   "execution_count": 48,
   "metadata": {},
   "outputs": [
    {
     "data": {
      "text/plain": [
       "{'_1_func1': {'a': 1, 'c': 3}, '_2_func2': {'c': 3, 'b': 2}}"
      ]
     },
     "execution_count": 48,
     "metadata": {},
     "output_type": "execute_result"
    }
   ],
   "source": [
    "asdict(pp[\"test\"])"
   ]
  },
  {
   "cell_type": "code",
   "execution_count": 23,
   "metadata": {},
   "outputs": [],
   "source": [
    "from typing import Any\n",
    "\n",
    "@dataclass\n",
    "class A:\n",
    "    a:int\n",
    "    b:int\n",
    "\n",
    "    def __get__(self, __name: str) -> Any:\n",
    "        return self.__dict__[__name]"
   ]
  },
  {
   "cell_type": "code",
   "execution_count": 24,
   "metadata": {},
   "outputs": [],
   "source": [
    "a=A(a=1,b=1)"
   ]
  },
  {
   "cell_type": "code",
   "execution_count": 26,
   "metadata": {},
   "outputs": [
    {
     "ename": "RecursionError",
     "evalue": "maximum recursion depth exceeded",
     "output_type": "error",
     "traceback": [
      "\u001b[0;31m---------------------------------------------------------------------------\u001b[0m",
      "\u001b[0;31mRecursionError\u001b[0m                            Traceback (most recent call last)",
      "Cell \u001b[0;32mIn[26], line 1\u001b[0m\n\u001b[0;32m----> 1\u001b[0m \u001b[43ma\u001b[49m\u001b[38;5;241;43m.\u001b[39;49m\u001b[43mget\u001b[49m(\u001b[38;5;124m\"\u001b[39m\u001b[38;5;124ma\u001b[39m\u001b[38;5;124m\"\u001b[39m)\n",
      "Cell \u001b[0;32mIn[18], line 9\u001b[0m, in \u001b[0;36mA.__getattribute__\u001b[0;34m(self, _A__name)\u001b[0m\n\u001b[1;32m      8\u001b[0m \u001b[38;5;28;01mdef\u001b[39;00m \u001b[38;5;21m__getattribute__\u001b[39m(\u001b[38;5;28mself\u001b[39m, __name: \u001b[38;5;28mstr\u001b[39m) \u001b[38;5;241m-\u001b[39m\u001b[38;5;241m>\u001b[39m Any:\n\u001b[0;32m----> 9\u001b[0m     \u001b[38;5;28;01mreturn\u001b[39;00m \u001b[38;5;28;43mself\u001b[39;49m\u001b[38;5;241;43m.\u001b[39;49m\u001b[38;5;18;43m__dict__\u001b[39;49m[__name]\n",
      "Cell \u001b[0;32mIn[18], line 9\u001b[0m, in \u001b[0;36mA.__getattribute__\u001b[0;34m(self, _A__name)\u001b[0m\n\u001b[1;32m      8\u001b[0m \u001b[38;5;28;01mdef\u001b[39;00m \u001b[38;5;21m__getattribute__\u001b[39m(\u001b[38;5;28mself\u001b[39m, __name: \u001b[38;5;28mstr\u001b[39m) \u001b[38;5;241m-\u001b[39m\u001b[38;5;241m>\u001b[39m Any:\n\u001b[0;32m----> 9\u001b[0m     \u001b[38;5;28;01mreturn\u001b[39;00m \u001b[38;5;28;43mself\u001b[39;49m\u001b[38;5;241;43m.\u001b[39;49m\u001b[38;5;18;43m__dict__\u001b[39;49m[__name]\n",
      "    \u001b[0;31m[... skipping similar frames: A.__getattribute__ at line 9 (2974 times)]\u001b[0m\n",
      "Cell \u001b[0;32mIn[18], line 9\u001b[0m, in \u001b[0;36mA.__getattribute__\u001b[0;34m(self, _A__name)\u001b[0m\n\u001b[1;32m      8\u001b[0m \u001b[38;5;28;01mdef\u001b[39;00m \u001b[38;5;21m__getattribute__\u001b[39m(\u001b[38;5;28mself\u001b[39m, __name: \u001b[38;5;28mstr\u001b[39m) \u001b[38;5;241m-\u001b[39m\u001b[38;5;241m>\u001b[39m Any:\n\u001b[0;32m----> 9\u001b[0m     \u001b[38;5;28;01mreturn\u001b[39;00m \u001b[38;5;28;43mself\u001b[39;49m\u001b[38;5;241;43m.\u001b[39;49m\u001b[38;5;18;43m__dict__\u001b[39;49m[__name]\n",
      "\u001b[0;31mRecursionError\u001b[0m: maximum recursion depth exceeded"
     ]
    }
   ],
   "source": [
    "a.get(\"a\")"
   ]
  },
  {
   "cell_type": "code",
   "execution_count": 32,
   "metadata": {},
   "outputs": [
    {
     "data": {
      "text/plain": [
       "DataClass(_1_func1=DataClass(a=1), _2_func2=DataClass(b=2))"
      ]
     },
     "execution_count": 32,
     "metadata": {},
     "output_type": "execute_result"
    }
   ],
   "source": [
    "params"
   ]
  },
  {
   "cell_type": "code",
   "execution_count": null,
   "metadata": {},
   "outputs": [],
   "source": []
  }
 ],
 "metadata": {
  "kernelspec": {
   "display_name": ".venv",
   "language": "python",
   "name": "python3"
  },
  "language_info": {
   "codemirror_mode": {
    "name": "ipython",
    "version": 3
   },
   "file_extension": ".py",
   "mimetype": "text/x-python",
   "name": "python",
   "nbconvert_exporter": "python",
   "pygments_lexer": "ipython3",
   "version": "3.12.2"
  }
 },
 "nbformat": 4,
 "nbformat_minor": 2
}
